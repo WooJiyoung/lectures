{
 "cells": [
  {
   "cell_type": "code",
   "execution_count": 2,
   "id": "e72391c1-5800-4e1b-b425-545c45242fd8",
   "metadata": {},
   "outputs": [],
   "source": [
    "import numpy as np\n",
    "import pandas as pd\n",
    "from matplotlib import pyplot as plt"
   ]
  },
  {
   "cell_type": "code",
   "execution_count": 6,
   "id": "8e9a8503-b3f8-4bd2-b326-57dc6b56ab44",
   "metadata": {},
   "outputs": [
    {
     "name": "stdout",
     "output_type": "stream",
     "text": [
      "[1 2 3 4]\n",
      "<class 'numpy.ndarray'>\n"
     ]
    }
   ],
   "source": [
    "lst = [1, 2, 3, 4]\n",
    "arr = np.array(lst)\n",
    "print(arr)\n",
    "print(type(arr))"
   ]
  },
  {
   "cell_type": "code",
   "execution_count": 8,
   "id": "b8333ca3-467b-4be2-ad28-f477162e610d",
   "metadata": {},
   "outputs": [
    {
     "name": "stdout",
     "output_type": "stream",
     "text": [
      "int32\n",
      "float64\n"
     ]
    }
   ],
   "source": [
    "print(arr.dtype)\n",
    "lst = [1.1, 1.2, 2.5]\n",
    "arr = np.array(lst)\n",
    "print(arr.dtype)\n"
   ]
  },
  {
   "cell_type": "code",
   "execution_count": 14,
   "id": "f0887a74-d453-434b-8a20-0cf6e521217e",
   "metadata": {},
   "outputs": [
    {
     "name": "stdout",
     "output_type": "stream",
     "text": [
      "44\n",
      "64\n"
     ]
    }
   ],
   "source": [
    "from sys import getsizeof\n",
    "\n",
    "lst = [1, 2, 3, 4]\n",
    "print(getsizeof(lst))\n",
    "\n",
    "arr = np.array([1, 2, 3, 4])\n",
    "print(getsizeof(arr))"
   ]
  },
  {
   "cell_type": "code",
   "execution_count": 15,
   "id": "9910b00a-a1db-423d-8d63-34bca785c304",
   "metadata": {},
   "outputs": [
    {
     "name": "stdout",
     "output_type": "stream",
     "text": [
      "[25, 20, 35, 15, 15, 30, 45, 30]\n",
      "[25 20 35 15 15 30 45 30]\n"
     ]
    }
   ],
   "source": [
    "prices = [30, 25, 40, 20, 20, 35, 50, 35]\n",
    "price_arr = np.array(prices)\n",
    "\n",
    "new_prices = [price- 5 for price in prices]\n",
    "print(new_prices)\n",
    "\n",
    "price_arr -= 5\n",
    "print(price_arr)"
   ]
  },
  {
   "cell_type": "code",
   "execution_count": 25,
   "id": "66911704-672e-4e92-97e8-8d9dd0a5b30e",
   "metadata": {},
   "outputs": [
    {
     "name": "stdout",
     "output_type": "stream",
     "text": [
      "[89 87 74 92 94]\n",
      "[260 281 248 277 272]\n",
      "[86.66666667 93.66666667 82.66666667 92.33333333 90.66666667]\n",
      "[[ 92  94  88  92  87]\n",
      " [ 79 100  86  93  91]\n",
      " [ 89  87  74  92  94]]\n",
      "93\n",
      "[94 88]\n",
      "[87 91 94]\n"
     ]
    }
   ],
   "source": [
    "\"\"\"\n",
    "실습문제: 시험점수처리\n",
    "\"\"\"\n",
    "\n",
    "test_1 = np.array([92, 94, 88, 92, 87])\n",
    "test_2 = np.array([79, 100, 86, 93, 91])\n",
    "test_3 = np.array([87, 85, 72, 90, 92])\n",
    "\n",
    "test_3_fixed = test_3 + 2\n",
    "print(test_3_fixed)\n",
    "\n",
    "total_grade = test_1 + test_2 + test_3_fixed\n",
    "print(total_grade)\n",
    "final_grade = total_grade / 3\n",
    "print(final_grade)\n",
    "\n",
    "student_scores = np.array([test_1, test_2, test_3_fixed])\n",
    "print(student_scores)\n",
    "\n",
    "jeremy_test_2 = student_scores[1, 3]\n",
    "print(jeremy_test_2)\n",
    "\n",
    "\n",
    "manual_adwoa_test_1 = np.array([student_scores[0, 1], student_scores[0, 2]])\n",
    "print(manual_adwoa_test_1)\n",
    "\n",
    "\n",
    "print(student_scores[:, 4])\n"
   ]
  },
  {
   "cell_type": "code",
   "execution_count": 30,
   "id": "0898e160-6e1f-4a73-9166-37e7cbb42df1",
   "metadata": {},
   "outputs": [
    {
     "name": "stdout",
     "output_type": "stream",
     "text": [
      "[ True False False False False False  True  True  True  True]\n",
      "[10  9  8  9  7]\n",
      "[10  2  2  3  9  8  9  7]\n",
      "[5]\n"
     ]
    }
   ],
   "source": [
    "a = np.array([10, 2, 2, 4, 5, 3, 9, 8, 9, 7])\n",
    "\n",
    "mask = a > 5\n",
    "print(mask)\n",
    "\n",
    "selected = a[a > 5]\n",
    "print(selected)\n",
    "\n",
    "selected = a[(a > 5) | (a < 4)]\n",
    "print(selected)\n",
    "\n",
    "selected = a[(a > 4) & (a < 7)]\n",
    "print(selected)"
   ]
  },
  {
   "cell_type": "code",
   "execution_count": 4,
   "id": "90edb98a-be33-4b86-b9a3-db2473030c9d",
   "metadata": {},
   "outputs": [
    {
     "name": "stdout",
     "output_type": "stream",
     "text": [
      "[50 56 51]\n",
      "[90 85 98]\n",
      "[79 65 63 79]\n"
     ]
    }
   ],
   "source": [
    "\"\"\"\n",
    "실습문제 골디락스\n",
    "\"\"\"\n",
    "\n",
    "porridge = np.array([79, 65, 50, 63, 56, 90, 85, 98, 79, 51])\n",
    "\n",
    "cold = porridge[porridge < 60]\n",
    "print(cold)\n",
    "hot = porridge[porridge > 80]\n",
    "print(hot)\n",
    "just_right = porridge[(porridge >= 60) & (porridge <= 80)]\n",
    "print(just_right)"
   ]
  }
 ],
 "metadata": {
  "kernelspec": {
   "display_name": "Python 3",
   "language": "python",
   "name": "python3"
  },
  "language_info": {
   "codemirror_mode": {
    "name": "ipython",
    "version": 3
   },
   "file_extension": ".py",
   "mimetype": "text/x-python",
   "name": "python",
   "nbconvert_exporter": "python",
   "pygments_lexer": "ipython3",
   "version": "3.8.8"
  }
 },
 "nbformat": 4,
 "nbformat_minor": 5
}
