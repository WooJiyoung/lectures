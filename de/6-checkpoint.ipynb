{
 "cells": [
  {
   "cell_type": "code",
   "execution_count": 1,
   "id": "a7f0148e-9a74-4ad4-9915-6eff272223aa",
   "metadata": {},
   "outputs": [],
   "source": [
    "import numpy as np"
   ]
  },
  {
   "cell_type": "code",
   "execution_count": 5,
   "id": "4f8413d7-b8ac-48fa-886d-b2697efaeb4d",
   "metadata": {},
   "outputs": [
    {
     "name": "stdout",
     "output_type": "stream",
     "text": [
      "[0 1 2]\n",
      "[3 4 5 6 7 8]\n",
      "[3 5 7]\n"
     ]
    }
   ],
   "source": [
    "print(np.arange(3))\n",
    "print(np.arange(3, 9))\n",
    "print(np.arange(3, 9, 2))"
   ]
  },
  {
   "cell_type": "code",
   "execution_count": 8,
   "id": "de11d2ab-f94b-43a8-be9d-6698796226d5",
   "metadata": {},
   "outputs": [
    {
     "name": "stdout",
     "output_type": "stream",
     "text": [
      "[5 0 3 3 7 9]\n"
     ]
    }
   ],
   "source": [
    "np.random.seed(0)\n",
    "arr1 = np.random.randint(10, size=6)\n",
    "print(arr1)"
   ]
  },
  {
   "cell_type": "code",
   "execution_count": 10,
   "id": "feef73d0-6126-4901-8578-222c3e96fbbc",
   "metadata": {},
   "outputs": [
    {
     "name": "stdout",
     "output_type": "stream",
     "text": [
      "[[5 8 9 5]\n",
      " [0 0 1 7]\n",
      " [6 9 2 4]]\n",
      "arr.ndim = 2\n",
      "arr.shape = (3, 4)\n",
      "arr.size = 12\n",
      "arr.dtype = int32\n",
      "arr.itemsize = 4\n",
      "arr.nbytes = 48\n"
     ]
    }
   ],
   "source": [
    "np.random.seed(1)\n",
    "arr = np.random.randint(10, size=(3, 4))\n",
    "print(arr)\n",
    "\n",
    "print(\"arr.ndim =\", arr.ndim)\n",
    "print(\"arr.shape =\", arr.shape)\n",
    "print(\"arr.size =\", arr.size)\n",
    "print(\"arr.dtype =\", arr.dtype)\n",
    "print(\"arr.itemsize =\", arr.itemsize)\n",
    "print(\"arr.nbytes =\", arr.nbytes)"
   ]
  },
  {
   "cell_type": "code",
   "execution_count": 16,
   "id": "376d7f6b-463e-4f00-9f59-44cf532d41a3",
   "metadata": {},
   "outputs": [
    {
     "name": "stdout",
     "output_type": "stream",
     "text": [
      "[0 1 2 3 4 5 6 7 8 9]\n",
      "[3 4 5 6]\n"
     ]
    }
   ],
   "source": [
    "arr = np.arange(10)\n",
    "print(arr)\n",
    "\n",
    "print(arr[3:7])"
   ]
  },
  {
   "cell_type": "markdown",
   "id": "5fd26845-0c21-4b2c-91bd-8456fd1f8447",
   "metadata": {},
   "source": [
    "\"\"\"\n",
    "\"\"\"\n",
    "\n",
    "\n",
    "6 9 4\n",
    "3 5 7\n",
    "\n",
    "6 4 5 7\n",
    "3 7 6 7 \n",
    "1 6 3 4 \n",
    "\"\"\"\n",
    "np.random.seed(2)\n",
    "arr = np.random.randint(10, size=(6, 8))\n",
    "print(arr)\n",
    "\n",
    "arr1 = arr[\n",
    "print(arr1)\n",
    "arr[:3, ::2]\n"
   ]
  },
  {
   "cell_type": "code",
   "execution_count": 24,
   "id": "68c64d95-cd43-490a-a2c7-8248ba10699f",
   "metadata": {},
   "outputs": [
    {
     "name": "stdout",
     "output_type": "stream",
     "text": [
      "[[8 8 6 2 8 7 2 1]\n",
      " [5 4 4 5 7 3 6 4]\n",
      " [3 7 6 1 3 5 8 4]\n",
      " [6 3 9 2 0 4 2 4]\n",
      " [1 7 8 2 9 8 7 1]\n",
      " [6 8 5 9 9 9 3 0]]\n",
      "[[8 8]\n",
      " [5 4]]\n"
     ]
    }
   ],
   "source": [
    "np.random.seed(2)\n",
    "arr = np.random.randint(10, size=(6, 8))\n",
    "print(arr)\n",
    "\n",
    "arr_sub = arr[:2, :2]\n",
    "print(arr_sub)"
   ]
  },
  {
   "cell_type": "code",
   "execution_count": 30,
   "id": "263c9046-a0c5-4a71-b3d3-28211508e280",
   "metadata": {},
   "outputs": [
    {
     "name": "stdout",
     "output_type": "stream",
     "text": [
      "[[8 9 3 8 8 0 5 3]\n",
      " [9 9 5 7 6 0 4 7]\n",
      " [8 1 6 2 2 1 3 5]\n",
      " [8 1 8 7 8 1 0 5]\n",
      " [4 1 5 4 7 6 0 0]\n",
      " [9 2 4 5 8 8 7 5]]\n"
     ]
    }
   ],
   "source": [
    "np.random.seed(3)\n",
    "arr = np.random.randint(10, size=(6, 8))\n",
    "print(arr)\n",
    "\n"
   ]
  },
  {
   "cell_type": "code",
   "execution_count": 36,
   "id": "6f1fed63-0fdf-4ab6-88d3-7fda6f2ef500",
   "metadata": {},
   "outputs": [
    {
     "name": "stdout",
     "output_type": "stream",
     "text": [
      "[1 2 3 4 5 6 7 8 9] \n",
      "\n",
      "[[1 2 3]\n",
      " [4 5 6]\n",
      " [7 8 9]] \n",
      "\n"
     ]
    }
   ],
   "source": [
    "arr = np.arange(1, 10)\n",
    "print(arr, '\\n')\n",
    "grid = arr.reshape(3, 3)\n",
    "print(grid, '\\n')"
   ]
  },
  {
   "cell_type": "code",
   "execution_count": 40,
   "id": "91cee32c-51af-460a-a47d-25f0ebd2bb23",
   "metadata": {},
   "outputs": [
    {
     "name": "stdout",
     "output_type": "stream",
     "text": [
      "[1 2 3]\n",
      "(3,) \n",
      "\n",
      "[[1 2 3]]\n"
     ]
    }
   ],
   "source": [
    "arr = np.array([1, 2, 3])\n",
    "print(arr)\n",
    "print(arr.shape, '\\n')\n",
    "\n",
    "arr_new = arr[np.newaxis, :]\n",
    "print(arr_new)\n"
   ]
  },
  {
   "cell_type": "code",
   "execution_count": 45,
   "id": "5473714a-67b0-4bb3-8b9e-8790a3d62172",
   "metadata": {},
   "outputs": [
    {
     "name": "stdout",
     "output_type": "stream",
     "text": [
      "[1 2 3 4 5 6 7 8 9]\n",
      "[[1 2 3]\n",
      " [4 5 6]\n",
      " [7 8 9]]\n",
      "[1 2 3 4 5 6 7 8 9]\n"
     ]
    }
   ],
   "source": [
    "arr1 = np.array([1, 2, 3])\n",
    "arr2 = np.array([4, 5, 6])\n",
    "arr3 = np.array([7, 8, 9])\n",
    "\n",
    "arr_total = np.concatenate([arr1, arr2, arr3])\n",
    "print(arr_total)\n",
    "\n",
    "arr_total = np.vstack([arr1, arr2, arr3])\n",
    "print(arr_total)\n",
    "\n",
    "arr_total = np.hstack([arr1, arr2, arr3])\n",
    "print(arr_total)"
   ]
  },
  {
   "cell_type": "code",
   "execution_count": 24,
   "id": "cb3971b3-517e-406d-bb15-4ad580543aa9",
   "metadata": {},
   "outputs": [
    {
     "name": "stdout",
     "output_type": "stream",
     "text": [
      "[1, 2, 3, 99, 99, 3, 2, 1] \n",
      "\n",
      "[ 1  2  3 99] [99  3  2  1]\n"
     ]
    }
   ],
   "source": [
    "arr = [1, 2, 3, 99, 99, 3, 2, 1]\n",
    "print(arr, '\\n')\n",
    "\n",
    "arr_1, arr_2 = np.split(arr, [4])\n",
    "print(arr_1, arr_2)"
   ]
  },
  {
   "cell_type": "code",
   "execution_count": 29,
   "id": "ca5557a9-f15e-4204-bdf2-9ce414a18af4",
   "metadata": {},
   "outputs": [
    {
     "name": "stdout",
     "output_type": "stream",
     "text": [
      "[[5 0 3 3 7 9 3 5]\n",
      " [2 4 7 6 8 8 1 6]\n",
      " [7 7 8 1 5 9 8 9]\n",
      " [4 3 0 3 5 0 2 3]\n",
      " [8 1 3 3 3 7 0 1]\n",
      " [9 9 0 4 7 3 2 7]]\n",
      "[[5 0 3]\n",
      " [2 4 7]]\n"
     ]
    },
    {
     "data": {
      "text/plain": [
       "array([[5, 3, 7, 3],\n",
       "       [2, 7, 8, 1],\n",
       "       [7, 8, 5, 8]])"
      ]
     },
     "execution_count": 29,
     "metadata": {},
     "output_type": "execute_result"
    }
   ],
   "source": [
    "\"\"\"\n",
    "실습\n",
    "\"\"\"\n",
    "np.random.seed(0)\n",
    "arr = np.random.randint(10, size=(6, 8))\n",
    "\n",
    "print(arr)\n",
    "\n",
    "arr1 = arr[:2, :3]\n",
    "print(arr1)\n",
    "arr[:3, ::2]"
   ]
  },
  {
   "cell_type": "code",
   "execution_count": null,
   "id": "0f987a76-840f-4990-941c-6ea679b148d0",
   "metadata": {},
   "outputs": [],
   "source": []
  }
 ],
 "metadata": {
  "kernelspec": {
   "display_name": "Python 3",
   "language": "python",
   "name": "python3"
  },
  "language_info": {
   "codemirror_mode": {
    "name": "ipython",
    "version": 3
   },
   "file_extension": ".py",
   "mimetype": "text/x-python",
   "name": "python",
   "nbconvert_exporter": "python",
   "pygments_lexer": "ipython3",
   "version": "3.8.8"
  }
 },
 "nbformat": 4,
 "nbformat_minor": 5
}
