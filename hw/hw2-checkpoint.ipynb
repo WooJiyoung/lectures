{
 "cells": [
  {
   "cell_type": "code",
   "execution_count": 1,
   "id": "37aec17f-5fb1-4e6a-abc0-dd74464025a4",
   "metadata": {},
   "outputs": [
    {
     "name": "stdout",
     "output_type": "stream",
     "text": [
      "[['politics', 80], ['latin', 96], ['dance', 97], ['architecture', 65], ['physics', 98], ['calculus', 97], ['poetry', 'Pass'], ['history', 88], ['computer science', 100], ['visual arts', 93]]\n"
     ]
    }
   ],
   "source": [
    "subjects = [\"physics\", \"calculus\", \"poetry\", \"history\"]\n",
    "grades = [98, 97, 85, 88]\n",
    "gradebook = [['physics',98], ['calculus', 97], ['poetry', 85], \n",
    "            ['history', 88]]\n",
    "\n",
    "gradebook.append([\"computer science\", 100])\n",
    "gradebook.append([\"visual arts\", 93])\n",
    "\n",
    "gradebook[2].remove(85)\n",
    "gradebook[2].append(\"Pass\")\n",
    "\n",
    "last_semester_gradebook = [[\"politics\", 80], [\"latin\", 96], \n",
    "                           [\"dance\", 97], [\"architecture\", 65]]\n",
    "\n",
    "full_gradebook = last_semester_gradebook + gradebook\n",
    "\n",
    "print(full_gradebook)\n",
    "\n"
   ]
  }
 ],
 "metadata": {
  "kernelspec": {
   "display_name": "Python 3",
   "language": "python",
   "name": "python3"
  },
  "language_info": {
   "codemirror_mode": {
    "name": "ipython",
    "version": 3
   },
   "file_extension": ".py",
   "mimetype": "text/x-python",
   "name": "python",
   "nbconvert_exporter": "python",
   "pygments_lexer": "ipython3",
   "version": "3.8.8"
  }
 },
 "nbformat": 4,
 "nbformat_minor": 5
}
