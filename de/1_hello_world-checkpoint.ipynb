{
 "cells": [
  {
   "cell_type": "code",
   "execution_count": 5,
   "id": "9c97ed60-50c8-40c0-8156-1c7b5b51acbe",
   "metadata": {},
   "outputs": [
    {
     "name": "stdout",
     "output_type": "stream",
     "text": [
      "Hello World!\n",
      "100\n",
      "3.14\n",
      "My name is Ji Young\n"
     ]
    }
   ],
   "source": [
    "\"\"\"\n",
    "print() function\n",
    "\"\"\"\n",
    "\n",
    "print(\"Hello World!\")\n",
    "print(100)\n",
    "pi = 3.14\n",
    "print(pi)\n",
    "\n",
    "intro = \"My name is \"\n",
    "name = \"Ji Young\"\n",
    "\n",
    "print(intro + name)"
   ]
  },
  {
   "cell_type": "code",
   "execution_count": 3,
   "id": "30d4ec32-7614-4399-b157-bb92e5c688dc",
   "metadata": {},
   "outputs": [],
   "source": [
    "\"\"\"\n",
    "Variables\n",
    "\"\"\"\n",
    "\n",
    "user_name = \"Ji Young\"\n",
    "user_age = 23\n",
    "user_email = \"woojy0702@hs.ac.kr\"\n",
    "is_student = True\n",
    "user_sex = \"female\""
   ]
  },
  {
   "cell_type": "code",
   "execution_count": 8,
   "id": "ae2cc53a-c42c-43ae-863e-4a20a61affe4",
   "metadata": {},
   "outputs": [],
   "source": [
    "\"\"\"\n",
    "Data Types: Integers\n",
    "\"\"\"\n",
    "\n",
    "chairs = 6\n",
    "sofas = 1\n",
    "bad = 3\n",
    "tables = 3"
   ]
  },
  {
   "cell_type": "code",
   "execution_count": null,
   "id": "b3c76bc0-3e08-4012-9e86-37a900b0fbcc",
   "metadata": {},
   "outputs": [],
   "source": [
    "\"\"\"\n",
    "Data Types: Real Number\n",
    "\"\"\"\n",
    "\n",
    "PI = 3.14\n",
    "height = 160.3\n",
    "pensil_length = 13.7"
   ]
  },
  {
   "cell_type": "code",
   "execution_count": null,
   "id": "8e90795a-0f0d-4054-b149-a838007b6d06",
   "metadata": {},
   "outputs": [],
   "source": [
    "\"\"\"\n",
    "Data Types: Strings\n",
    "\"\"\"\n",
    "\n",
    "favorite_game = \"Cookie Run\"\n",
    "favorite_hobby = \"Netflix\"\n",
    "favorite_animal = \"Cat\"\n",
    "\n",
    "favorites = favorite_game + favorite_hobby + favorite_animal"
   ]
  },
  {
   "cell_type": "code",
   "execution_count": 13,
   "id": "9e831212-f6f9-4747-bcd4-0f8cc0f8df5f",
   "metadata": {},
   "outputs": [
    {
     "name": "stdout",
     "output_type": "stream",
     "text": [
      "4.0\n"
     ]
    }
   ],
   "source": [
    "\"\"\"\n",
    "Plus-Equals Operations\n",
    "\"\"\"\n",
    "\n",
    "a = 8\n",
    "a /= 2\n",
    "print(a)"
   ]
  },
  {
   "cell_type": "code",
   "execution_count": 16,
   "id": "df8cf8dc-948c-488b-8787-ba4683823b5c",
   "metadata": {},
   "outputs": [
    {
     "name": "stdout",
     "output_type": "stream",
     "text": [
      "HSU\n"
     ]
    }
   ],
   "source": [
    "\"\"\"\n",
    "Errors\n",
    "\"\"\"\n",
    "\n",
    "my_school = \"HSU\"\n",
    "print(my_school)"
   ]
  },
  {
   "cell_type": "code",
   "execution_count": 17,
   "id": "a6030547-4f62-430c-80aa-f28ce7aacf60",
   "metadata": {},
   "outputs": [],
   "source": [
    "x = 1"
   ]
  },
  {
   "cell_type": "code",
   "execution_count": null,
   "id": "b63f19fb-403f-4612-8ed0-5ff43043670b",
   "metadata": {},
   "outputs": [],
   "source": []
  },
  {
   "cell_type": "code",
   "execution_count": null,
   "id": "cac330da-a371-400c-b3ab-dcd77e984844",
   "metadata": {},
   "outputs": [],
   "source": []
  },
  {
   "cell_type": "code",
   "execution_count": null,
   "id": "70420434-b310-4e2a-b8eb-87c606da8398",
   "metadata": {},
   "outputs": [],
   "source": []
  }
 ],
 "metadata": {
  "kernelspec": {
   "display_name": "Python 3",
   "language": "python",
   "name": "python3"
  },
  "language_info": {
   "codemirror_mode": {
    "name": "ipython",
    "version": 3
   },
   "file_extension": ".py",
   "mimetype": "text/x-python",
   "name": "python",
   "nbconvert_exporter": "python",
   "pygments_lexer": "ipython3",
   "version": "3.8.8"
  }
 },
 "nbformat": 4,
 "nbformat_minor": 5
}
